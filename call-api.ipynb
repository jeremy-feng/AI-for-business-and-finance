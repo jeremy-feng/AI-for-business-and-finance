{
 "cells": [
  {
   "cell_type": "markdown",
   "metadata": {},
   "source": [
    "## 导入必要的包"
   ]
  },
  {
   "cell_type": "code",
   "execution_count": 1,
   "metadata": {},
   "outputs": [],
   "source": [
    "import os\n",
    "\n",
    "import dashscope\n",
    "import openai\n",
    "from chatllm.llmchain.llms import ChatGLM, ErnieBot, SparkBot\n",
    "from dashscope import Generation\n",
    "from dotenv import load_dotenv\n",
    "from langchain.chains import LLMChain\n",
    "from langchain.prompts import ChatPromptTemplate"
   ]
  },
  {
   "cell_type": "markdown",
   "metadata": {},
   "source": [
    "## 配置模型 API Key"
   ]
  },
  {
   "cell_type": "markdown",
   "metadata": {},
   "source": [
    "我们一共使用 5 个在线大模型 API，分别是：\n",
    "\n",
    "- OpenAI API，详见 https://api.nextweb.fun/ 和 https://flowus.cn/yifei/share/7c1ff13b-277d-40da-8c04-ebf770ea46ea\n",
    "- 讯飞星火 API，详见 https://console.xfyun.cn/services/cbm\n",
    "- 智谱 AI API，详见 https://open.bigmodel.cn/usercenter/apikeys\n",
    "- 百度 API，详见 https://console.bce.baidu.com/qianfan/ais/console/applicationConsole/application\n",
    "- 阿里通义千问 API，详见 https://dashscope.console.aliyun.com/apiKey\n",
    "\n",
    "为了避免将 API Key 暴露在公开的代码中，我们将 API Key 保存在 `.env` 文件中，然后通过 `dotenv` 包的 `load_dotenv()` 方法读取到环境变量中。\n",
    "\n",
    "在当前目录下新建一个 `.env` 文件，层级结构如下：\n",
    "\n",
    "```\n",
    ".\n",
    "├── .env\n",
    "└── call-api.ipynb\n",
    "```\n",
    "\n",
    "`.env` 文件的内容如下：\n",
    "\n",
    "```\n",
    "OPENAI_API_BASE=https://api.nextweb.fun/openai/v1\n",
    "OPENAI_API_KEY=ak-XXXXXX\n",
    "SPARK_API_KEY={APP Id}:{API Key}:{Secret Key}\n",
    "CHATGLM_API_KEY={API Key}\n",
    "ERNIE_API_KEY={API Key}:{Secret Key}\n",
    "DASHSCOPE_API_KEY=sk-XXXXXX\n",
    "```"
   ]
  },
  {
   "cell_type": "code",
   "execution_count": 2,
   "metadata": {},
   "outputs": [
    {
     "data": {
      "text/plain": [
       "True"
      ]
     },
     "execution_count": 2,
     "metadata": {},
     "output_type": "execute_result"
    }
   ],
   "source": [
    "# 通过 `dotenv` 包的 `load_dotenv()` 方法读取到环境变量中\n",
    "load_dotenv()\n",
    "\n",
    "# 下面的三个变量较为特殊，我们需要手动设置，否则可能会出现错误\n",
    "openai.api_base = os.environ['OPENAI_API_BASE']\n",
    "openai.api_key = os.environ['OPENAI_API_KEY']\n",
    "dashscope.api_key = os.environ['DASHSCOPE_API_KEY']"
   ]
  },
  {
   "cell_type": "markdown",
   "metadata": {},
   "source": [
    "## 设置各个模型的对话机器人实例"
   ]
  },
  {
   "cell_type": "code",
   "execution_count": 3,
   "metadata": {},
   "outputs": [],
   "source": [
    "# 设置默认提示词\n",
    "prompt = ChatPromptTemplate.from_template(\"{question}\")\n",
    "\n",
    "# 设置各个模型的对话机器人实例\n",
    "llm_spark = SparkBot()\n",
    "llm_zhipuai = ChatGLM()\n",
    "llm_ernie = ErnieBot()\n",
    "\n",
    "chat_spark = LLMChain(llm=llm_spark, prompt=prompt)\n",
    "chat_zhipuai = LLMChain(llm=llm_zhipuai, prompt=prompt)\n",
    "chat_ernie = LLMChain(llm=llm_ernie, prompt=prompt)\n"
   ]
  },
  {
   "cell_type": "markdown",
   "metadata": {},
   "source": [
    "## 测试对话效果"
   ]
  },
  {
   "cell_type": "code",
   "execution_count": 4,
   "metadata": {},
   "outputs": [],
   "source": [
    "prompt = \"你是谁\""
   ]
  },
  {
   "cell_type": "markdown",
   "metadata": {},
   "source": [
    "### OpenAI"
   ]
  },
  {
   "cell_type": "code",
   "execution_count": 5,
   "metadata": {},
   "outputs": [
    {
     "data": {
      "text/plain": [
       "'我是一个AI助手，没有实体身份。我可以回答一些问题和提供一些建议。'"
      ]
     },
     "execution_count": 5,
     "metadata": {},
     "output_type": "execute_result"
    }
   ],
   "source": [
    "openai.ChatCompletion.create(\n",
    "            model=\"gpt-3.5-turbo\",\n",
    "            messages=[{\"role\": \"user\", \"content\": \"你是谁\"}],\n",
    "        ).choices[0].message.content"
   ]
  },
  {
   "cell_type": "markdown",
   "metadata": {},
   "source": [
    "### 讯飞星火"
   ]
  },
  {
   "cell_type": "code",
   "execution_count": 6,
   "metadata": {},
   "outputs": [
    {
     "data": {
      "text/plain": [
       "'您好，我是科大讯飞研发的认知智能大模型，我的名字叫讯飞星火认知大模型。我可以和人类进行自然交流，解答问题，高效完成各领域认知智能需求。'"
      ]
     },
     "execution_count": 6,
     "metadata": {},
     "output_type": "execute_result"
    }
   ],
   "source": [
    "chat_spark.run(prompt)"
   ]
  },
  {
   "cell_type": "markdown",
   "metadata": {},
   "source": [
    "### 智谱 AI"
   ]
  },
  {
   "cell_type": "code",
   "execution_count": 7,
   "metadata": {},
   "outputs": [
    {
     "data": {
      "text/plain": [
       "'我是一个名为 ChatGLM2-12B 的人工智能助手，是基于清华大学 KEG 实验室和智谱 AI 公司于 2023 年共同训练的语言模型开发的。我的任务是针对用户的问题和要求提供适当的答复和支持。'"
      ]
     },
     "execution_count": 7,
     "metadata": {},
     "output_type": "execute_result"
    }
   ],
   "source": [
    "chat_zhipuai.run(prompt)[1:-1].strip()"
   ]
  },
  {
   "cell_type": "markdown",
   "metadata": {},
   "source": [
    "### 百度"
   ]
  },
  {
   "cell_type": "code",
   "execution_count": 8,
   "metadata": {},
   "outputs": [
    {
     "data": {
      "text/plain": [
       "'您好，我是百度研发的知识增强大语言模型，中文名是文心一言，英文名是ERNIE Bot。我能够与人对话互动，回答问题，协助创作，高效便捷地帮助人们获取信息、知识和灵感。\\n\\n如果您有任何问题，请随时告诉我。'"
      ]
     },
     "execution_count": 8,
     "metadata": {},
     "output_type": "execute_result"
    }
   ],
   "source": [
    "chat_ernie.run(prompt)"
   ]
  },
  {
   "cell_type": "markdown",
   "metadata": {},
   "source": [
    "### 阿里通义千问"
   ]
  },
  {
   "cell_type": "code",
   "execution_count": 9,
   "metadata": {},
   "outputs": [
    {
     "data": {
      "text/plain": [
       "'我是来自阿里云的大规模语言模型，我叫通义千问。'"
      ]
     },
     "execution_count": 9,
     "metadata": {},
     "output_type": "execute_result"
    }
   ],
   "source": [
    "Generation.call(model=\"qwen-turbo\", prompt=prompt).output.text"
   ]
  }
 ],
 "metadata": {
  "kernelspec": {
   "display_name": "base",
   "language": "python",
   "name": "python3"
  },
  "language_info": {
   "codemirror_mode": {
    "name": "ipython",
    "version": 3
   },
   "file_extension": ".py",
   "mimetype": "text/x-python",
   "name": "python",
   "nbconvert_exporter": "python",
   "pygments_lexer": "ipython3",
   "version": "3.8.16"
  }
 },
 "nbformat": 4,
 "nbformat_minor": 2
}
